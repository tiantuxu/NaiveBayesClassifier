{
 "cells": [
  {
   "cell_type": "code",
   "execution_count": 1,
   "metadata": {},
   "outputs": [],
   "source": [
    "import sys, os\n",
    "import pandas as pd\n",
    "import numpy\n",
    "import matplotlib\n",
    "import matplotlib.pyplot as plt\n",
    "import numpy as np"
   ]
  },
  {
   "cell_type": "code",
   "execution_count": 2,
   "metadata": {},
   "outputs": [],
   "source": [
    "TRAINING_SET = 'trainingSet.csv'\n",
    "TEST_SET = 'testSet.csv'\n",
    "bin_N = 5\n",
    "\n",
    "def nbc(t_frac):\n",
    "    df = pd.read_csv(TRAINING_SET).sample(frac=t_frac, random_state=47)\n",
    "    df_test = pd.read_csv(TEST_SET).sample(frac=t_frac, random_state=47)\n",
    "    #df = df.astype('int64')\n",
    "    #df_test = df_test.astype('int64')\n",
    "\n",
    "    attr_list = list(df[df.columns.difference(['decision'])])\n",
    "    dict_table ={}\n",
    "\n",
    "    # Labels\n",
    "    dict_labels = {}\n",
    "    dict_labels['no'] = len(df[df['decision'] == 0])\n",
    "    dict_labels['yes'] = len(df[df['decision'] == 1])\n",
    "    dict_table['decision'] = dict_labels\n",
    "    \n",
    "    # Attributes in discrete_columns\n",
    "    for attr in attr_list:\n",
    "        dict_attr = {}\n",
    "        attr_bin = max(int(df[attr].max()), int(df_test[attr].max()))\n",
    "        \n",
    "        dict_attr['no'] = [1 for i in range(attr_bin + 1)]\n",
    "        dict_attr['yes'] = [1 for i in range(attr_bin + 1)]\n",
    "        \n",
    "        for i in range(attr_bin+1):\n",
    "            dict_attr['no'][i] += len(df[(df[attr] == i) & (df['decision'] == 0)])\n",
    "            dict_attr['yes'][i] += len(df[(df[attr] == i) & (df['decision'] == 1)])\n",
    "\n",
    "        dict_table[attr] = dict_attr\n",
    "        \n",
    "    return dict_table"
   ]
  },
  {
   "cell_type": "markdown",
   "metadata": {},
   "source": [
    "### Accuracy on training data"
   ]
  },
  {
   "cell_type": "code",
   "execution_count": 3,
   "metadata": {},
   "outputs": [
    {
     "name": "stdout",
     "output_type": "stream",
     "text": [
      "{'art': {'yes': [75, 324, 522, 864, 555], 'no': [107, 431, 725, 1132, 670]}, 'hiking': {'yes': [325, 464, 568, 641, 342], 'no': [435, 655, 694, 853, 428]}, 'race_o': {'yes': [465, 121, 1402, 203, 149], 'no': [847, 159, 1626, 224, 209]}, 'intelligence': {'yes': [15, 80, 353, 1107, 785], 'no': [14, 72, 471, 1439, 1069]}, 'sincere': {'yes': [11, 58, 186, 919, 1166], 'no': [20, 40, 210, 1250, 1545]}, 'expected_happy_with_sd_people': {'yes': [94, 391, 1134, 604, 117], 'no': [173, 642, 1464, 687, 99]}, 'intelligence_parter': {'yes': [1, 21, 354, 1314, 650], 'no': [30, 132, 847, 1506, 550]}, 'attractive_important': {'yes': [1535, 678, 103, 20, 4], 'no': [1937, 923, 164, 29, 12]}, 'sincere_important': {'yes': [1856, 475, 7], 'no': [2548, 508, 7]}, 'shared_interests_important': {'yes': [2214, 123], 'no': [2984, 78]}, 'sincere_partner': {'yes': [11, 48, 423, 1251, 607], 'no': [64, 225, 892, 1373, 511]}, 'pref_o_ambitious': {'yes': [2308, 29], 'no': [3019, 43]}, 'shared_interests_partner': {'yes': [61, 192, 881, 920, 286], 'no': [502, 799, 1166, 504, 94]}, 'funny': {'yes': [1, 11, 76, 1056, 1196], 'no': [1, 9, 111, 1465, 1479]}, 'pref_o_intelligence': {'yes': [1628, 679, 31], 'no': [2056, 974, 33]}, 'yoga': {'yes': [766, 442, 504, 382, 246], 'no': [1059, 658, 596, 480, 272]}, 'age_o': {'yes': [1340, 961, 36, 1, 2], 'no': [1651, 1332, 76, 1, 5]}, 'dining': {'yes': [25, 72, 410, 951, 882], 'no': [10, 71, 489, 1290, 1205]}, 'tv': {'yes': [420, 406, 701, 600, 213], 'no': [540, 566, 900, 704, 355]}, 'pref_o_shared_interests': {'yes': [2277, 60], 'no': [2882, 180]}, 'decision': {'yes': 2335, 'no': 3060}, 'pref_o_funny': {'yes': [1949, 380, 9], 'no': [2529, 522, 12]}, 'clubbing': {'yes': [293, 345, 628, 753, 321], 'no': [437, 540, 698, 985, 405]}, 'sports': {'yes': [270, 340, 480, 678, 572], 'no': [254, 431, 626, 984, 770]}, 'ambition_partner': {'yes': [11, 79, 668, 1112, 470], 'no': [88, 286, 1131, 1151, 409]}, 'field': {'yes': [2, 12, 3, 5, 3, 7, 2, 5, 3, 9, 6, 8, 6, 8, 32, 6, 1, 43, 1, 22, 7, 6, 10, 157, 3, 5, 26, 8, 4, 4, 4, 4, 3, 3, 4, 9, 32, 13, 3, 4, 10, 34, 7, 7, 2, 2, 15, 12, 5, 9, 2, 3, 6, 5, 8, 2, 7, 1, 10, 8, 3, 2, 2, 52, 5, 4, 4, 5, 5, 15, 73, 10, 1, 7, 47, 17, 2, 2, 6, 11, 48, 9, 39, 12, 4, 6, 2, 4, 6, 6, 16, 1, 4, 7, 5, 9, 11, 3, 6, 5, 5, 7, 3, 4, 3, 83, 3, 5, 4, 8, 4, 10, 4, 8, 2, 15, 5, 10, 9, 2, 16, 187, 4, 1, 8, 10, 2, 7, 1, 3, 3, 10, 18, 8, 5, 3, 9, 7, 5, 8, 24, 11, 151, 3, 8, 9, 16, 9, 32, 20, 2, 12, 5, 3, 4, 10, 1, 11, 10, 3, 21, 11, 5, 3, 5, 8, 4, 1, 20, 3, 10, 5, 2, 3, 35, 16, 3, 29, 54, 6, 13, 8, 2, 1, 15, 5, 21, 3, 1, 7, 3, 2, 84, 7, 50, 3, 5, 3, 2, 8, 2, 8, 6, 6, 12, 12, 2, 20, 1, 12], 'no': [11, 1, 5, 5, 6, 7, 12, 10, 8, 30, 13, 3, 4, 11, 21, 12, 8, 54, 7, 40, 10, 13, 10, 254, 4, 3, 28, 7, 12, 10, 10, 5, 8, 13, 12, 7, 39, 5, 12, 7, 8, 27, 6, 5, 3, 1, 6, 14, 6, 5, 23, 15, 12, 11, 8, 5, 2, 3, 31, 1, 4, 6, 2, 30, 10, 11, 20, 9, 10, 4, 74, 17, 12, 10, 20, 23, 8, 6, 6, 20, 41, 7, 55, 3, 8, 4, 2, 6, 1, 8, 31, 2, 8, 7, 1, 17, 5, 6, 4, 10, 14, 8, 1, 4, 12, 143, 12, 6, 16, 1, 4, 18, 1, 9, 8, 3, 6, 5, 5, 1, 26, 183, 15, 9, 2, 26, 6, 5, 3, 3, 11, 7, 1, 10, 9, 1, 18, 7, 1, 5, 37, 5, 196, 13, 10, 7, 16, 12, 36, 1, 4, 4, 13, 9, 11, 31, 1, 7, 1, 11, 9, 8, 9, 9, 12, 20, 7, 16, 22, 10, 7, 12, 2, 15, 23, 1, 1, 42, 66, 2, 14, 14, 6, 3, 4, 5, 11, 7, 6, 13, 2, 12, 175, 11, 56, 6, 4, 10, 11, 20, 4, 8, 7, 6, 8, 7, 9, 16, 9, 6]}, 'funny_partner': {'yes': [12, 61, 583, 1207, 477], 'no': [211, 536, 1269, 866, 183]}, 'importance_same_religion': {'yes': [1211, 404, 343, 267, 115], 'no': [1343, 537, 555, 339, 291]}, 'music': {'yes': [28, 76, 357, 878, 1001], 'no': [23, 85, 520, 1193, 1244]}, 'attractive': {'yes': [13, 121, 564, 1350, 292], 'no': [4, 104, 622, 1927, 408]}, 'pref_o_attractive': {'yes': [1514, 650, 133, 27, 16], 'no': [1956, 948, 137, 17, 7]}, 'reading': {'yes': [38, 113, 379, 842, 968], 'no': [67, 208, 448, 1040, 1302]}, 'funny_important': {'yes': [1872, 455, 11], 'no': [2588, 464, 11]}, 'exercise': {'yes': [286, 358, 608, 712, 376], 'no': [237, 421, 771, 1000, 636]}, 'interests_correlate': {'yes': [3, 253, 848, 1017, 219], 'no': [13, 366, 1117, 1315, 254]}, 'gaming': {'yes': [786, 552, 517, 397, 88], 'no': [1289, 671, 621, 378, 106]}, 'shopping': {'yes': [408, 361, 640, 558, 373], 'no': [493, 485, 711, 768, 608]}, 'tvsports': {'yes': [768, 437, 443, 466, 226], 'no': [964, 593, 556, 644, 308]}, 'pref_o_sincere': {'yes': [1956, 378, 4], 'no': [2442, 612, 9]}, 'attractive_partner': {'yes': [16, 70, 588, 1212, 454], 'no': [222, 689, 1360, 695, 99]}, 'importance_same_race': {'yes': [1124, 456, 333, 271, 156], 'no': [1266, 515, 452, 538, 294]}, 'ambition': {'yes': [25, 118, 394, 984, 819], 'no': [37, 142, 462, 1329, 1095]}, 'intelligence_important': {'yes': [1524, 801, 13], 'no': [2169, 852, 42]}, 'theater': {'yes': [90, 262, 609, 783, 596], 'no': [146, 375, 689, 1032, 823]}, 'like': {'yes': [6, 38, 590, 1368, 338], 'no': [216, 655, 1451, 678, 65]}, 'gender': {'yes': [970, 1367], 'no': [1677, 1385]}, 'age': {'yes': [1289, 1006, 41, 1, 3], 'no': [1702, 1322, 38, 1, 2]}, 'museums': {'yes': [47, 266, 486, 927, 614], 'no': [50, 332, 644, 1253, 786]}, 'movies': {'yes': [10, 90, 303, 1033, 904], 'no': [32, 108, 389, 1180, 1356]}, 'race': {'yes': [616, 144, 1243, 157, 180], 'no': [699, 127, 1823, 239, 177]}, 'ambition_important': {'yes': [2293, 44], 'no': [3022, 40]}, 'samerace': {'yes': [1354, 983], 'no': [1863, 1199]}, 'concerts': {'yes': [80, 280, 578, 744, 658], 'no': [106, 347, 814, 1077, 721]}}\n",
      "Training Accuracy: 0.78\n"
     ]
    }
   ],
   "source": [
    "# Print the accuracy\n",
    "dict_table = nbc(1)\n",
    "# Accuracy on training data\n",
    "df = pd.read_csv(TRAINING_SET).sample(frac=1, random_state=47)\n",
    "(row, col) = df.shape\n",
    "attr_list = list(df[df.columns.difference(['decision'])])\n",
    "#print df['decision'].value_counts()\n",
    "neg_num = len(df[df['decision'] == 0])\n",
    "pos_num = len(df[df['decision'] == 1])\n",
    "\n",
    "#print dict_table\n",
    "row_index = df.index.tolist()\n",
    "\n",
    "#print df\n",
    "correct = 0\n",
    "for i in row_index:\n",
    "    pd_pos = 1.0 * dict_table['decision']['yes']/row\n",
    "    pd_neg = 1.0 * dict_table['decision']['no']/row\n",
    "    #print pd_pos, pd_neg\n",
    "    for attr in attr_list:\n",
    "        pd_pos *= 1.0 * dict_table[attr]['yes'][int(df[attr][i])]/pos_num\n",
    "        pd_neg *= 1.0 * dict_table[attr]['no'][int(df[attr][i])]/neg_num\n",
    "    \n",
    "    res = np.argmax([1.0 * pd_neg, 1.0 * pd_pos])\n",
    "    if res == df['decision'][i]:\n",
    "        correct += 1\n",
    "#print correct\n",
    "training_accuracy = 1.0 * correct/row\n",
    "print 'Training Accuracy:', '%.2f' % training_accuracy\n",
    "#print 'Training Accuracy:', training_accuracy"
   ]
  },
  {
   "cell_type": "markdown",
   "metadata": {},
   "source": [
    "### Accuracy on test data"
   ]
  },
  {
   "cell_type": "code",
   "execution_count": 4,
   "metadata": {},
   "outputs": [
    {
     "name": "stdout",
     "output_type": "stream",
     "text": [
      "Test Accuracy: 0.75\n"
     ]
    }
   ],
   "source": [
    "df_test = pd.read_csv(TEST_SET).sample(frac=1, random_state=47)\n",
    "(row_test, col_test) = df_test.shape\n",
    "#attr_list = list(df_test[df_test.columns.difference(['decision'])])\n",
    "\n",
    "#neg_num_test = len(df_test[df_test['decision'] == 0])\n",
    "#pos_num_test = len(df_test[df_test['decision'] == 1])\n",
    "\n",
    "correct = 0\n",
    "\n",
    "row_index_test = df_test.index.tolist()\n",
    "\n",
    "for i in row_index_test:\n",
    "    pd_pos = 1.0 * dict_table['decision']['yes']/row\n",
    "    pd_neg = 1.0 * dict_table['decision']['no']/row\n",
    "    #print pd_pos, pd_neg\n",
    "    for attr in attr_list:\n",
    "        pd_pos *= 1.0 * dict_table[attr]['yes'][int(df_test[attr][i])]/pos_num\n",
    "        pd_neg *= 1.0 * dict_table[attr]['no'][int(df_test[attr][i])]/neg_num\n",
    "    \n",
    "    res = np.argmax([1000.0 * pd_neg, 1000.0 * pd_pos])\n",
    "    if res == df_test['decision'][i]:\n",
    "        correct += 1\n",
    "#print correct tt\n",
    "test_accuracy = 1.0 * correct/row_test\n",
    "print 'Test Accuracy:', '%.2f' % test_accuracy\n",
    "#print 'Test Accuracy:', test_accuracy"
   ]
  },
  {
   "cell_type": "code",
   "execution_count": null,
   "metadata": {},
   "outputs": [],
   "source": []
  }
 ],
 "metadata": {
  "kernelspec": {
   "display_name": "Python 2",
   "language": "python",
   "name": "python2"
  },
  "language_info": {
   "codemirror_mode": {
    "name": "ipython",
    "version": 2
   },
   "file_extension": ".py",
   "mimetype": "text/x-python",
   "name": "python",
   "nbconvert_exporter": "python",
   "pygments_lexer": "ipython2",
   "version": "2.7.12"
  }
 },
 "nbformat": 4,
 "nbformat_minor": 2
}
