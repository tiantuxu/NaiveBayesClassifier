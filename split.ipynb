{
 "cells": [
  {
   "cell_type": "code",
   "execution_count": 1,
   "metadata": {},
   "outputs": [],
   "source": [
    "import sys, os\n",
    "import pandas as pd\n",
    "import numpy\n",
    "import matplotlib\n",
    "import matplotlib.pyplot as plt\n",
    "import numpy as np"
   ]
  },
  {
   "cell_type": "code",
   "execution_count": 2,
   "metadata": {},
   "outputs": [],
   "source": [
    "# Read the data\n",
    "df = pd.read_csv('dating-binned.csv')"
   ]
  },
  {
   "cell_type": "code",
   "execution_count": 3,
   "metadata": {},
   "outputs": [
    {
     "name": "stdout",
     "output_type": "stream",
     "text": [
      "Int64Index([ 529, 4218, 3474,  185, 3889,  745, 4558, 2257,  621, 2507,\n",
      "            ...\n",
      "            6198, 5629, 4624, 4300, 6515, 3448, 5587, 2059, 1943, 4537],\n",
      "           dtype='int64', length=1349)\n",
      "Int64Index([   0,    1,    2,    3,    4,    5,    6,    8,    9,   11,\n",
      "            ...\n",
      "            6731, 6732, 6735, 6736, 6737, 6738, 6739, 6741, 6742, 6743],\n",
      "           dtype='int64', length=5395)\n"
     ]
    }
   ],
   "source": [
    "# Get the \n",
    "df_test = df.sample(frac=0.2, random_state=47)\n",
    "df_test.to_csv('testSet.csv', index=False)\n",
    "print df_test.index\n",
    "# Subtract \n",
    "df_train = df[~df.index.isin(df_test.index)]\n",
    "df_train.to_csv('trainingSet.csv', index=False)\n",
    "print df_train.index"
   ]
  }
 ],
 "metadata": {
  "kernelspec": {
   "display_name": "Python 2",
   "language": "python",
   "name": "python2"
  },
  "language_info": {
   "codemirror_mode": {
    "name": "ipython",
    "version": 2
   },
   "file_extension": ".py",
   "mimetype": "text/x-python",
   "name": "python",
   "nbconvert_exporter": "python",
   "pygments_lexer": "ipython2",
   "version": "2.7.12"
  }
 },
 "nbformat": 4,
 "nbformat_minor": 2
}
