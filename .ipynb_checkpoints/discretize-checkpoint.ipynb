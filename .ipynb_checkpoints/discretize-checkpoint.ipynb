{
 "cells": [
  {
   "cell_type": "code",
   "execution_count": 1,
   "metadata": {},
   "outputs": [],
   "source": [
    "import sys, os\n",
    "import pandas as pd\n",
    "import numpy\n",
    "import matplotlib\n",
    "import matplotlib.pyplot as plt\n",
    "import numpy as np"
   ]
  },
  {
   "cell_type": "code",
   "execution_count": 2,
   "metadata": {},
   "outputs": [],
   "source": [
    "#sys.argv[1] = 'dating.csv'\n",
    "#sys.argv[2] = 'dating-binned.csv'\n",
    "# Read the data\n",
    "df = pd.read_csv(sys.argv[1])\n",
    "#df = pd.read_csv('dating.csv')"
   ]
  },
  {
   "cell_type": "code",
   "execution_count": 3,
   "metadata": {},
   "outputs": [],
   "source": [
    "discrete_columns = ['gender', 'race', 'race_o', 'samerace', 'field', 'decision']\n",
    "all_columns = df.columns.values.tolist()\n",
    "continuous_valued_columns = [item for item in all_columns if item not in discrete_columns]\n",
    "#print all_columns\n",
    "#print continuous_valued_columns"
   ]
  },
  {
   "cell_type": "code",
   "execution_count": 4,
   "metadata": {},
   "outputs": [],
   "source": [
    "(row, col) = df.shape\n",
    "age_range = [18.0, 58.0]\n",
    "pref_score = [0.0, 1.0]\n",
    "score = [0.0, 10.0]\n",
    "corr_range = [-1.00, 1.00]\n",
    "\n",
    "bin_N = 5\n",
    "#bin_N = int(sys.argv[3])\n",
    "#bin_value = [i for i in range(bin_N)]\n",
    "bin_seg = [1.000 * i/bin_N for i in range(0, bin_N + 1)]\n",
    "#print bin_seg\n",
    "\n",
    "age = ['age', 'age_o']\n",
    "corr = ['interests_correlate']\n",
    "preference_scores_of_participant = \\\n",
    "['attractive_important', 'sincere_important', 'intelligence_important',\\\n",
    " 'funny_important', 'ambition_important', 'shared_interests_important']\n",
    "\n",
    "preference_scores_of_partner = \\\n",
    "['pref_o_attractive', 'pref_o_sincere', 'pref_o_intelligence', \\\n",
    " 'pref_o_funny', 'pref_o_ambitious', 'pref_o_shared_interests']\n",
    "\n",
    "continuous_valued_columns_bins = {}\n",
    "\n",
    "# Segment the bins\n",
    "for field in continuous_valued_columns:\n",
    "    continuous_valued_columns_bins[field] = []\n",
    "    if field in age:\n",
    "        for i in range(0, bin_N):\n",
    "            continuous_valued_columns_bins[field].append(age_range[0] + bin_seg[i] * (age_range[1] - age_range[0]))\n",
    "    elif field in corr:\n",
    "        for i in range(0, bin_N):\n",
    "            continuous_valued_columns_bins[field].append(corr_range[0] + bin_seg[i] * (corr_range[1] - corr_range[0]))\n",
    "    elif field in preference_scores_of_participant or field in preference_scores_of_partner:\n",
    "        for i in range(0, bin_N):\n",
    "            continuous_valued_columns_bins[field].append(pref_score[0] + bin_seg[i] * (pref_score[1] - pref_score[0]))\n",
    "    else:\n",
    "        for i in range(0, bin_N):\n",
    "            continuous_valued_columns_bins[field].append(score[0] + bin_seg[i] * (score[1] - score[0]))\n",
    "\n",
    "#print continuous_valued_columns_bins\n",
    "#print len(continuous_valued_columns_bins)\n",
    "#print df['pref_o_attractive'].value_counts()\n",
    "#print len(df[(df['pref_o_attractive'] > 0.20) & (df['pref_o_attractive'] <= 0.40)])\n",
    "#print len(df[(df['pref_o_attractive'] > 0.40) & (df['pref_o_attractive'] <= 0.60)])"
   ]
  },
  {
   "cell_type": "code",
   "execution_count": 5,
   "metadata": {
    "scrolled": true
   },
   "outputs": [],
   "source": [
    "# Dictionary of the numbers ine ach bin\n",
    "continuous_valued_columns_seg = {}\n",
    "# Initalize the dict\n",
    "for field in continuous_valued_columns:\n",
    "    continuous_valued_columns_seg[field] = [0 for i in range(bin_N)]\n",
    "\n",
    "for i in range(row):\n",
    "    for field in continuous_valued_columns:\n",
    "        # Find the bin\n",
    "        for j in range(0, bin_N):\n",
    "            # Corner Case\n",
    "            if j == 0:\n",
    "                if continuous_valued_columns_bins[field][j] <= float(df[field][i]) <= continuous_valued_columns_bins[field][j + 1]:\n",
    "                    df.loc[i,field] = int(j)\n",
    "                    continuous_valued_columns_seg[field][j] += 1\n",
    "                    break\n",
    "            elif j == bin_N - 1:\n",
    "                if continuous_valued_columns_bins[field][j] < float(df[field][i]):\n",
    "                    df.loc[i,field] = int(j)\n",
    "                    continuous_valued_columns_seg[field][j] += 1\n",
    "                    break\n",
    "            else:\n",
    "                if continuous_valued_columns_bins[field][j] < float(df[field][i]) <= continuous_valued_columns_bins[field][j + 1]:\n",
    "                    df.loc[i,field] = int(j)\n",
    "                    continuous_valued_columns_seg[field][j] += 1\n",
    "                    break"
   ]
  },
  {
   "cell_type": "code",
   "execution_count": 6,
   "metadata": {},
   "outputs": [],
   "source": [
    "df = df.astype('int64')\n",
    "df.to_csv(sys.argv[2], index=False)\n",
    "#df.to_csv('dating-binned.csv', index=False)\n",
    "#print continuous_valued_columns_seg"
   ]
  },
  {
   "cell_type": "code",
   "execution_count": 7,
   "metadata": {},
   "outputs": [
    {
     "name": "stdout",
     "output_type": "stream",
     "text": [
      "age: [3710, 2932, 97, 0, 5]\n",
      "age_o: [3704, 2899, 136, 0, 5]\n",
      "importance_same_race: [2980, 1213, 977, 1013, 561]\n",
      "importance_same_religion: [3203, 1188, 1110, 742, 501]\n",
      "pref_o_attractive: [4333, 1987, 344, 51, 29]\n",
      "pref_o_sincere: [5500, 1225, 19, 0, 0]\n",
      "pref_o_intelligence: [4601, 2062, 81, 0, 0]\n",
      "pref_o_funny: [5616, 1103, 25, 0, 0]\n",
      "pref_o_ambitious: [6656, 88, 0, 0, 0]\n",
      "pref_o_shared_interests: [6467, 277, 0, 0, 0]\n",
      "attractive_important: [4323, 2017, 328, 57, 19]\n",
      "sincere_important: [5495, 1235, 14, 0, 0]\n",
      "intelligence_important: [4606, 2071, 67, 0, 0]\n",
      "funny_important: [5588, 1128, 28, 0, 0]\n",
      "ambition_important: [6644, 100, 0, 0, 0]\n",
      "shared_interests_important: [6494, 250, 0, 0, 0]\n",
      "attractive: [18, 276, 1462, 4122, 866]\n",
      "sincere: [33, 117, 487, 2715, 3392]\n",
      "intelligence: [34, 185, 1049, 3190, 2286]\n",
      "funny: [0, 19, 221, 3191, 3313]\n",
      "ambition: [84, 327, 1070, 2876, 2387]\n",
      "attractive_partner: [284, 948, 2418, 2390, 704]\n",
      "sincere_partner: [94, 353, 1627, 3282, 1388]\n",
      "intelligence_parter: [36, 193, 1509, 3509, 1497]\n",
      "funny_partner: [279, 733, 2296, 2600, 836]\n",
      "ambition_partner: [119, 473, 2258, 2804, 1090]\n",
      "shared_interests_partner: [701, 1269, 2536, 1774, 464]\n",
      "sports: [650, 961, 1369, 2077, 1687]\n",
      "tvsports: [2151, 1292, 1233, 1383, 685]\n",
      "exercise: [619, 952, 1775, 2115, 1283]\n",
      "dining: [39, 172, 1118, 2797, 2618]\n",
      "museums: [117, 732, 1417, 2737, 1741]\n",
      "art: [224, 946, 1557, 2500, 1517]\n",
      "hiking: [963, 1386, 1575, 1855, 965]\n",
      "gaming: [2565, 1522, 1435, 979, 243]\n",
      "clubbing: [912, 1068, 1668, 2193, 903]\n",
      "reading: [131, 398, 1071, 2317, 2827]\n",
      "tv: [1188, 1216, 1999, 1642, 699]\n",
      "theater: [288, 811, 1585, 2300, 1760]\n",
      "movies: [45, 248, 843, 2783, 2825]\n",
      "concerts: [222, 777, 1752, 2282, 1711]\n",
      "music: [62, 196, 1106, 2583, 2797]\n",
      "shopping: [1093, 1098, 1709, 1643, 1201]\n",
      "yoga: [2285, 1392, 1369, 1056, 642]\n",
      "interests_correlate: [18, 758, 2453, 2942, 573]\n",
      "expected_happy_with_sd_people: [321, 1262, 3292, 1596, 273]\n",
      "like: [273, 865, 2539, 2560, 507]\n"
     ]
    }
   ],
   "source": [
    "keylist = continuous_valued_columns_seg.keys()\n",
    "\n",
    "for field in continuous_valued_columns:\n",
    "    print str(field) + ':', continuous_valued_columns_seg[field]"
   ]
  },
  {
   "cell_type": "code",
   "execution_count": null,
   "metadata": {},
   "outputs": [],
   "source": []
  }
 ],
 "metadata": {
  "kernelspec": {
   "display_name": "Python 2",
   "language": "python",
   "name": "python2"
  },
  "language_info": {
   "codemirror_mode": {
    "name": "ipython",
    "version": 2
   },
   "file_extension": ".py",
   "mimetype": "text/x-python",
   "name": "python",
   "nbconvert_exporter": "python",
   "pygments_lexer": "ipython2",
   "version": "2.7.12"
  }
 },
 "nbformat": 4,
 "nbformat_minor": 2
}
