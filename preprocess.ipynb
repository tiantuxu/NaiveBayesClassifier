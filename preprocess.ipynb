{
 "cells": [
  {
   "cell_type": "code",
   "execution_count": 1,
   "metadata": {},
   "outputs": [],
   "source": [
    "import sys, os\n",
    "import pandas as pd"
   ]
  },
  {
   "cell_type": "code",
   "execution_count": 2,
   "metadata": {},
   "outputs": [],
   "source": [
    "#input_filename = argv[1]\n",
    "#output_filename = argv[2]\n",
    "sys.argv[1] = 'dating-full.csv'\n",
    "sys.argv[2] = 'dating.csv'\n",
    "# Load csv\n",
    "d = pd.read_csv(sys.argv[1])"
   ]
  },
  {
   "cell_type": "markdown",
   "metadata": {},
   "source": [
    "## Remove Quotes"
   ]
  },
  {
   "cell_type": "code",
   "execution_count": 3,
   "metadata": {},
   "outputs": [
    {
     "name": "stdout",
     "output_type": "stream",
     "text": [
      "Quotes removed from 8316 cells.\n"
     ]
    }
   ],
   "source": [
    "quote = 0\n",
    "(row, col) = d.shape\n",
    "#print row\n",
    "#print col\n",
    "for i in range(row):\n",
    "    if d['race'][i].startswith(\"'\") and d['race'][i].endswith(\"'\"):\n",
    "        quote += 1\n",
    "    if d['race_o'][i].startswith(\"'\") and d['race_o'][i].endswith(\"'\"):\n",
    "        quote += 1\n",
    "    if d['field'][i].startswith(\"'\") and d['field'][i].endswith(\"'\"):\n",
    "        quote += 1\n",
    "\n",
    "d['race'] = d['race'].str.replace(\"'\",\"\")\n",
    "d['race_o'] = d['race_o'].str.replace(\"'\",\"\")\n",
    "d['field'] = d['field'].str.replace(\"'\",\"\")\n",
    "\n",
    "print 'Quotes removed from', quote, 'cells.'"
   ]
  },
  {
   "cell_type": "markdown",
   "metadata": {},
   "source": [
    "## Change to lower case"
   ]
  },
  {
   "cell_type": "code",
   "execution_count": 4,
   "metadata": {},
   "outputs": [
    {
     "name": "stdout",
     "output_type": "stream",
     "text": [
      "Standardized 5692 cells to lower case.\n"
     ]
    }
   ],
   "source": [
    "case = 0\n",
    "for i in range(row):\n",
    "    if d['field'][i][0].isupper():\n",
    "        case += 1\n",
    "        \n",
    "d['field'] = d['field'].str.lower()\n",
    "print 'Standardized', case, 'cells to lower case.'"
   ]
  },
  {
   "cell_type": "markdown",
   "metadata": {},
   "source": [
    "## Categorical to numeric"
   ]
  },
  {
   "cell_type": "code",
   "execution_count": 5,
   "metadata": {},
   "outputs": [
    {
     "name": "stdout",
     "output_type": "stream",
     "text": [
      "Value assigned for male in column gender: 1.\n",
      "Value assigned for European/Caucasian-American in column race: 2.\n",
      "Value assigned for Latino/Hispanic American in column race o: 3.\n",
      "Value assigned for law in column field: 121.\n"
     ]
    }
   ],
   "source": [
    "# gender\n",
    "gender = []\n",
    "for i in d['gender']:\n",
    "    if i not in gender:\n",
    "        gender.append(i)\n",
    "gender.sort()\n",
    "d['gender'] = d['gender'].astype('category')\n",
    "d['gender'] = d['gender'].cat.codes\n",
    "\n",
    "# race\n",
    "race = []\n",
    "#print d['race']\n",
    "for i in d['race']:\n",
    "    if i not in race:\n",
    "        race.append(i)\n",
    "race.sort()\n",
    "d['race'] = d['race'].astype('category')\n",
    "d['race'] = d['race'].cat.codes\n",
    "#print d['race']\n",
    "\n",
    "# race_o\n",
    "race_o = []\n",
    "for i in d['race_o']:\n",
    "    if i not in race_o:\n",
    "        race_o.append(i)\n",
    "race_o.sort()\n",
    "d['race_o'] = d['race_o'].astype('category')\n",
    "d['race_o'] = d['race_o'].cat.codes\n",
    "\n",
    "# field\n",
    "field = []\n",
    "for i in d['field']:\n",
    "    if i not in field:\n",
    "        field.append(i)\n",
    "field.sort()\n",
    "d['field'] = d['field'].astype('category')\n",
    "d['field'] = d['field'].cat.codes\n",
    "\n",
    "print 'Value assigned for male in column gender:', str(gender.index('male')) + '.'\n",
    "print 'Value assigned for European/Caucasian-American in column race:', str(race.index('European/Caucasian-American')) + '.'\n",
    "print 'Value assigned for Latino/Hispanic American in column race o:', str(race_o.index('Latino/Hispanic American')) + '.'\n",
    "print 'Value assigned for law in column field:', str(field.index('law')) + '.'"
   ]
  },
  {
   "cell_type": "code",
   "execution_count": 6,
   "metadata": {},
   "outputs": [
    {
     "name": "stdout",
     "output_type": "stream",
     "text": [
      "Mean of attractive_important: 0.22.\n",
      "Mean of sincere_important: 0.17.\n",
      "Mean of intelligence_important: 0.20.\n",
      "Mean of funny_important: 0.17.\n",
      "Mean of ambition_important: 0.11.\n",
      "Mean of shared_interests_important: 0.12.\n",
      "Mean of pref_o_attractive: 0.22.\n",
      "Mean of pref_o_sincere: 0.17.\n",
      "Mean of pref_o_intelligence: 0.20.\n",
      "Mean of pref_o_funny: 0.17.\n",
      "Mean of pref_o_ambitious: 0.11.\n",
      "Mean of pref_o_shared_interests: 0.12.\n"
     ]
    }
   ],
   "source": [
    "preference_scores_of_participant = \\\n",
    "['attractive_important', 'sincere_important', 'intelligence_important',\\\n",
    " 'funny_important', 'ambition_important', 'shared_interests_important']\n",
    "preference_scores_of_partner = \\\n",
    "['pref_o_attractive', 'pref_o_sincere', 'pref_o_intelligence', \\\n",
    " 'pref_o_funny', 'pref_o_ambitious', 'pref_o_shared_interests']\n",
    "\n",
    "for i in range(row):\n",
    "    participant_sum = 0\n",
    "    partner_sum = 0\n",
    "\n",
    "    for pref in preference_scores_of_participant:\n",
    "        participant_sum += d[pref][i]\n",
    "        \n",
    "    for pref in preference_scores_of_partner:\n",
    "        partner_sum += d[pref][i]\n",
    "    \n",
    "    # update the preference scores of participant\n",
    "    for pref in preference_scores_of_participant:\n",
    "        d.loc[i, pref] = d[pref][i]/participant_sum\n",
    "        \n",
    "    # update the preference scores of partner\n",
    "    for pref in preference_scores_of_partner:\n",
    "        d.loc[i, pref] = d[pref][i]/partner_sum\n",
    "\n",
    "    \n",
    "for pref in preference_scores_of_participant:\n",
    "    print 'Mean of', pref + str(':'), str('%.2f' % d[pref].mean()) + '.'\n",
    "    \n",
    "for pref in preference_scores_of_partner:\n",
    "    print 'Mean of', pref + str(':'), str('%.2f' % d[pref].mean()) + '.'"
   ]
  },
  {
   "cell_type": "markdown",
   "metadata": {},
   "source": [
    "## Save csv"
   ]
  },
  {
   "cell_type": "code",
   "execution_count": 7,
   "metadata": {},
   "outputs": [],
   "source": [
    "d.to_csv(sys.argv[2], index=False)"
   ]
  }
 ],
 "metadata": {
  "kernelspec": {
   "display_name": "Python 2",
   "language": "python",
   "name": "python2"
  },
  "language_info": {
   "codemirror_mode": {
    "name": "ipython",
    "version": 2
   },
   "file_extension": ".py",
   "mimetype": "text/x-python",
   "name": "python",
   "nbconvert_exporter": "python",
   "pygments_lexer": "ipython2",
   "version": "2.7.12"
  }
 },
 "nbformat": 4,
 "nbformat_minor": 2
}
