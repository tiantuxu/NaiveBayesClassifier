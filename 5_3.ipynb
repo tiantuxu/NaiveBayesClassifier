{
 "cells": [
  {
   "cell_type": "code",
   "execution_count": 1,
   "metadata": {},
   "outputs": [],
   "source": [
    "import sys, os\n",
    "import pandas as pd\n",
    "import numpy\n",
    "import matplotlib\n",
    "import matplotlib.pyplot as plt\n",
    "import numpy as np"
   ]
  },
  {
   "cell_type": "code",
   "execution_count": 2,
   "metadata": {},
   "outputs": [],
   "source": [
    "os.system('python bin-script.py dating.csv dating-binned.csv 5 > /dev/null')\n",
    "os.system('python split.py')\n",
    "\n",
    "TRAINING_SET = 'trainingSet.csv'\n",
    "TEST_SET = 'testSet.csv'\n",
    "bin_N = 5\n",
    "F = [0.01, 0.1, 0.2, 0.5, 0.6, 0.75, 0.9, 1]\n",
    "#F = [0.01]\n",
    "def nbc(t_frac):\n",
    "    df_train = pd.read_csv(TRAINING_SET).sample(frac=1, random_state=47)\n",
    "    df_test = pd.read_csv(TEST_SET).sample(frac=1, random_state=47)\n",
    "    \n",
    "    attr_list = list(df_train[df_train.columns.difference(['decision'])])\n",
    "    dict_table ={}\n",
    "    \n",
    "    df_t = pd.read_csv(TRAINING_SET).sample(frac=f, random_state=47)\n",
    "\n",
    "    # Labels\n",
    "    dict_labels = {}\n",
    "    dict_labels['no'] = len(df_t[df_t['decision'] == 0])\n",
    "    dict_labels['yes'] = len(df_t[df_t['decision'] == 1])\n",
    "    dict_table['decision'] = dict_labels\n",
    "    \n",
    "    # Attributes in discrete_columns\n",
    "    for attr in attr_list:\n",
    "        dict_attr = {}\n",
    "        attr_bin = max(int(df_train[attr].max()), int(df_test[attr].max()))\n",
    "        \n",
    "        dict_attr['no'] = [0 for i in range(attr_bin + 1)]\n",
    "        dict_attr['yes'] = [0 for i in range(attr_bin + 1)]\n",
    "        \n",
    "        for i in range(attr_bin+1):\n",
    "            dict_attr['no'][i] += len(df_t[(df_t[attr] == i) & (df_t['decision'] == 0)])\n",
    "            dict_attr['yes'][i] += len(df_t[(df_t[attr] == i) & (df_t['decision'] == 1)])\n",
    "\n",
    "        dict_table[attr] = dict_attr\n",
    "        \n",
    "    return dict_table"
   ]
  },
  {
   "cell_type": "code",
   "execution_count": 3,
   "metadata": {},
   "outputs": [
    {
     "name": "stdout",
     "output_type": "stream",
     "text": [
      "f = 0.01\n",
      "Training Accuracy: 1.00\n",
      "Test Accuracy: 0.59\n",
      "f = 0.1\n",
      "Training Accuracy: 0.87\n",
      "Test Accuracy: 0.70\n",
      "f = 0.2\n",
      "Training Accuracy: 0.80\n",
      "Test Accuracy: 0.72\n",
      "f = 0.5\n",
      "Training Accuracy: 0.79\n",
      "Test Accuracy: 0.74\n",
      "f = 0.6\n",
      "Training Accuracy: 0.79\n",
      "Test Accuracy: 0.74\n",
      "f = 0.75\n",
      "Training Accuracy: 0.78\n",
      "Test Accuracy: 0.75\n",
      "f = 0.9\n",
      "Training Accuracy: 0.78\n",
      "Test Accuracy: 0.75\n",
      "f = 1\n",
      "Training Accuracy: 0.78\n",
      "Test Accuracy: 0.75\n"
     ]
    }
   ],
   "source": [
    "A_train = []\n",
    "A_test = []\n",
    "\n",
    "for f in F:\n",
    "    # Print the accuracy\n",
    "    print 'f =', f\n",
    "    dict_table = nbc(f)\n",
    "    #print dict_table\n",
    "    \n",
    "    # Accuracy on training data\n",
    "    df = pd.read_csv(TRAINING_SET).sample(frac=f, random_state=47)\n",
    "    (row, col) = df.shape\n",
    "    attr_list = list(df[df.columns.difference(['decision'])])\n",
    "    \n",
    "    neg_num = len(df[df['decision'] == 0])\n",
    "    pos_num = len(df[df['decision'] == 1])\n",
    "    \n",
    "    correct = 0\n",
    "    row_index = df.index.tolist()\n",
    "\n",
    "    #for i in range(row):\n",
    "    for i in row_index:\n",
    "        pd_pos = 1.0 * dict_table['decision']['yes']/row\n",
    "        pd_neg = 1.0 * dict_table['decision']['no']/row\n",
    "        for attr in attr_list:\n",
    "            pd_pos *= 10.0 * dict_table[attr]['yes'][int(df[attr][i])]/pos_num\n",
    "            pd_neg *= 10.0 * dict_table[attr]['no'][int(df[attr][i])]/neg_num\n",
    "        \n",
    "        res = np.argmax([1.0 * pd_neg, 1.0 * pd_pos])\n",
    "        if res == df['decision'][i]:\n",
    "            correct += 1\n",
    "\n",
    "    training_accuracy = 1.0 * correct/row\n",
    "    print 'Training Accuracy:', '%.2f' % training_accuracy\n",
    "    A_train.append(training_accuracy)\n",
    "    \n",
    "    # Accuracy on test data\n",
    "    df_test = pd.read_csv(TEST_SET).sample(frac=1, random_state=47)\n",
    "    (row_test, col_test) = df_test.shape\n",
    "    \n",
    "    row_index_test = df_test.index.tolist()\n",
    "\n",
    "    correct = 0\n",
    "    for i in row_index_test:\n",
    "        pd_pos = 1.0 * dict_table['decision']['yes']/row\n",
    "        pd_neg = 1.0 * dict_table['decision']['no']/row\n",
    "        #print pd_pos, pd_neg\n",
    "        for attr in attr_list:\n",
    "            pd_pos *= 1.0 * dict_table[attr]['yes'][int(df_test[attr][i])]/pos_num\n",
    "            pd_neg *= 1.0 * dict_table[attr]['no'][int(df_test[attr][i])]/neg_num\n",
    "        \n",
    "        res = np.argmax([1.0 * pd_neg, 1.0 * pd_pos])\n",
    "        if res == df_test['decision'][i]:\n",
    "            correct += 1\n",
    "    test_accuracy = 1.0 * correct/row_test\n",
    "    print 'Test Accuracy:', '%.2f' % test_accuracy\n",
    "    A_test.append(test_accuracy)"
   ]
  },
  {
   "cell_type": "code",
   "execution_count": 4,
   "metadata": {},
   "outputs": [
    {
     "data": {
      "image/png": "[encoded data removed]",
      "text/plain": [
       "<Figure size 432x288 with 1 Axes>"
      ]
     },
     "metadata": {
      "needs_background": "light"
     },
     "output_type": "display_data"
    }
   ],
   "source": [
    "fig = plt.figure()\n",
    "plt.plot(F, A_train, color='red', label='Training Accuracy')\n",
    "plt.plot(F, A_test, color='blue', label='Test Accuracy')\n",
    "\n",
    "plt.xlabel(\"f\")\n",
    "plt.ylabel(\"Accuracy\");\n",
    "plt.legend()\n",
    "\n",
    "plt.savefig('./figs/5_3.png')\n",
    "plt.show()"
   ]
  },
  {
   "cell_type": "code",
   "execution_count": null,
   "metadata": {},
   "outputs": [],
   "source": []
  }
 ],
 "metadata": {
  "kernelspec": {
   "display_name": "Python 2",
   "language": "python",
   "name": "python2"
  },
  "language_info": {
   "codemirror_mode": {
    "name": "ipython",
    "version": 2
   },
   "file_extension": ".py",
   "mimetype": "text/x-python",
   "name": "python",
   "nbconvert_exporter": "python",
   "pygments_lexer": "ipython2",
   "version": "2.7.12"
  }
 },
 "nbformat": 4,
 "nbformat_minor": 2
}
