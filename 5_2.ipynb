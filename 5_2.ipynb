{
 "cells": [
  {
   "cell_type": "code",
   "execution_count": 1,
   "metadata": {},
   "outputs": [],
   "source": [
    "import sys, os\n",
    "import pandas as pd\n",
    "import numpy\n",
    "import matplotlib\n",
    "import matplotlib.pyplot as plt\n",
    "import numpy as np"
   ]
  },
  {
   "cell_type": "code",
   "execution_count": 2,
   "metadata": {},
   "outputs": [],
   "source": [
    "B = [2, 5, 10, 50, 100, 200]"
   ]
  },
  {
   "cell_type": "code",
   "execution_count": 3,
   "metadata": {},
   "outputs": [],
   "source": [
    "df = pd.read_csv('dating.csv')\n",
    "discrete_columns = ['gender', 'race', 'race_o', 'samerace', 'field', 'decision']\n",
    "all_columns = df.columns.values.tolist()\n",
    "continuous_valued_columns = [item for item in all_columns if item not in discrete_columns]\n",
    "#print all_columns\n",
    "#print continuous_valued_columns"
   ]
  },
  {
   "cell_type": "code",
   "execution_count": 4,
   "metadata": {},
   "outputs": [],
   "source": [
    "(row, col) = df.shape\n",
    "age_range = [18.0, 58.0]\n",
    "pref_score = [0.0, 1.0]\n",
    "score = [0.0, 10.0]\n",
    "corr_range = [-1.00, 1.00]\n",
    "\n",
    "age = ['age', 'age_o']\n",
    "corr = ['interests_correlate']\n",
    "preference_scores_of_participant = \\\n",
    "['attractive_important', 'sincere_important', 'intelligence_important',\\\n",
    " 'funny_important', 'ambition_important', 'shared_interests_important']\n",
    "\n",
    "preference_scores_of_partner = \\\n",
    "['pref_o_attractive', 'pref_o_sincere', 'pref_o_intelligence', \\\n",
    " 'pref_o_funny', 'pref_o_ambitious', 'pref_o_shared_interests']"
   ]
  },
  {
   "cell_type": "code",
   "execution_count": 5,
   "metadata": {},
   "outputs": [],
   "source": [
    "def nbc(t_frac, df_train, df_test, bin_N):\n",
    "    attr_list = list(df_train[df_train.columns.difference(['decision'])])\n",
    "    dict_table ={}\n",
    "\n",
    "    # Labels\n",
    "    dict_labels = {}\n",
    "    dict_labels['no'] = len(df_train[df_train['decision'] == 0])\n",
    "    dict_labels['yes'] = len(df_train[df_train['decision'] == 1])\n",
    "    dict_table['decision'] = dict_labels\n",
    "    \n",
    "    # Attributes in discrete_columns\n",
    "    for attr in attr_list:\n",
    "        dict_attr = {}\n",
    "        attr_bin = max(df_train[attr].max(), df_test[attr].max())\n",
    "        #print attr_bin\n",
    "        dict_attr['no'] = [0 for i in range(attr_bin + 1)]\n",
    "        dict_attr['yes'] = [0 for i in range(attr_bin + 1)]\n",
    "        \n",
    "        for i in range(attr_bin + 1):\n",
    "            dict_attr['no'][i] += len(df_train[(df_train[attr] == i) & (df_train['decision'] == 0)])\n",
    "            dict_attr['yes'][i] += len(df_train[(df_train[attr] == i) & (df_train['decision'] == 1)])\n",
    "\n",
    "        dict_table[attr] = dict_attr\n",
    "        \n",
    "    return dict_table"
   ]
  },
  {
   "cell_type": "code",
   "execution_count": null,
   "metadata": {},
   "outputs": [
    {
     "name": "stdout",
     "output_type": "stream",
     "text": [
      "Bin size: 2\n"
     ]
    }
   ],
   "source": [
    "#df = pd.read_csv('dating.csv')\n",
    "\n",
    "for bin_N in B:\n",
    "    print 'Bin size:', bin_N    \n",
    "    \n",
    "    os.system('python discretize.py dating.csv dating-binned.csv ' + str(bin_N))\n",
    "    os.system('python split.py')\n",
    "    \n",
    "    # Get the data\n",
    "    df_train = pd.read_csv('trainingSet.csv').sample(frac=1, random_state=47)\n",
    "    df_test = pd.read_csv('testSet.csv').sample(frac=1, random_state=47)\n",
    "    \n",
    "    dict_table = nbc(1, df_train, df_test, bin_N)\n",
    "    #print dict_table\n",
    "    # Accuracy on training data\n",
    "    (row, col) = df_train.shape\n",
    "    #print df_train.shape\n",
    "    #print df_train\n",
    "    attr_list = list(df_train[df_train.columns.difference(['decision'])])\n",
    "    \n",
    "    row_index = df_train.index.tolist()\n",
    "\n",
    "    # Train\n",
    "    neg_num = len(df_train[df_train['decision'] == 0])\n",
    "    pos_num = len(df_train[df_train['decision'] == 1])\n",
    "    correct = 0\n",
    "    \n",
    "    for i in row_index:\n",
    "        pd_pos = 1.0 * dict_table['decision']['yes']/row\n",
    "        pd_neg = 1.0 * dict_table['decision']['no']/row\n",
    "        for attr in attr_list:\n",
    "            #print attr, i\n",
    "            pd_pos *= 1.0 * dict_table[attr]['yes'][int(df_train[attr][i])]/pos_num\n",
    "            pd_neg *= 1.0 * dict_table[attr]['no'][int(df_train[attr][i])]/neg_num\n",
    "        \n",
    "        res = np.argmax([1.0 * pd_neg, 1.0 * pd_pos])\n",
    "        if res == df_train['decision'][i]:\n",
    "            correct += 1\n",
    "    #print correct\n",
    "    training_accuracy = 1.0 * correct/row\n",
    "    print 'Training Accuracy:', '%.2f' % training_accuracy\n",
    "    \n",
    "    # Test\n",
    "    row_index_test = df_test.index.tolist()\n",
    "    (row, col) = df_test.shape\n",
    "    correct = 0\n",
    "    for i in row_index_test:\n",
    "        pd_pos = 1.0 * dict_table['decision']['yes']/row\n",
    "        pd_neg = 1.0 * dict_table['decision']['no']/row\n",
    "        for attr in attr_list:\n",
    "            #print attr, i\n",
    "            pd_pos *= 1.0 * dict_table[attr]['yes'][int(df_test[attr][i])]/pos_num\n",
    "            pd_neg *= 1.0 * dict_table[attr]['no'][int(df_test[attr][i])]/neg_num\n",
    "        \n",
    "        res = np.argmax([1.0 * pd_neg, 1.0 * pd_pos])\n",
    "        if res == df_test['decision'][i]:\n",
    "            correct += 1\n",
    "    #print correct\n",
    "    test_accuracy = 1.0 * correct/row\n",
    "    print 'Test Accuracy:', '%.2f' % test_accuracy"
   ]
  }
 ],
 "metadata": {
  "kernelspec": {
   "display_name": "Python 2",
   "language": "python",
   "name": "python2"
  },
  "language_info": {
   "codemirror_mode": {
    "name": "ipython",
    "version": 2
   },
   "file_extension": ".py",
   "mimetype": "text/x-python",
   "name": "python",
   "nbconvert_exporter": "python",
   "pygments_lexer": "ipython2",
   "version": "2.7.12"
  }
 },
 "nbformat": 4,
 "nbformat_minor": 2
}
