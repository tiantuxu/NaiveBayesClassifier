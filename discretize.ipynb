{
 "cells": [
  {
   "cell_type": "code",
   "execution_count": 1,
   "metadata": {},
   "outputs": [],
   "source": [
    "import sys, os\n",
    "import pandas as pd\n",
    "import numpy\n",
    "import matplotlib\n",
    "import matplotlib.pyplot as plt\n",
    "import numpy as np"
   ]
  },
  {
   "cell_type": "code",
   "execution_count": 2,
   "metadata": {},
   "outputs": [],
   "source": [
    "sys.argv[1] = 'dating.csv'\n",
    "sys.argv[2] = 'dating-binned.csv'\n",
    "# Read the data\n",
    "df = pd.read_csv(sys.argv[1])"
   ]
  },
  {
   "cell_type": "code",
   "execution_count": 3,
   "metadata": {},
   "outputs": [
    {
     "name": "stdout",
     "output_type": "stream",
     "text": [
      "['gender', 'age', 'age_o', 'race', 'race_o', 'samerace', 'importance_same_race', 'importance_same_religion', 'field', 'pref_o_attractive', 'pref_o_sincere', 'pref_o_intelligence', 'pref_o_funny', 'pref_o_ambitious', 'pref_o_shared_interests', 'attractive_important', 'sincere_important', 'intelligence_important', 'funny_important', 'ambition_important', 'shared_interests_important', 'attractive', 'sincere', 'intelligence', 'funny', 'ambition', 'attractive_partner', 'sincere_partner', 'intelligence_parter', 'funny_partner', 'ambition_partner', 'shared_interests_partner', 'sports', 'tvsports', 'exercise', 'dining', 'museums', 'art', 'hiking', 'gaming', 'clubbing', 'reading', 'tv', 'theater', 'movies', 'concerts', 'music', 'shopping', 'yoga', 'interests_correlate', 'expected_happy_with_sd_people', 'like', 'decision']\n",
      "['age', 'age_o', 'importance_same_race', 'importance_same_religion', 'pref_o_attractive', 'pref_o_sincere', 'pref_o_intelligence', 'pref_o_funny', 'pref_o_ambitious', 'pref_o_shared_interests', 'attractive_important', 'sincere_important', 'intelligence_important', 'funny_important', 'ambition_important', 'shared_interests_important', 'attractive', 'sincere', 'intelligence', 'funny', 'ambition', 'attractive_partner', 'sincere_partner', 'intelligence_parter', 'funny_partner', 'ambition_partner', 'shared_interests_partner', 'sports', 'tvsports', 'exercise', 'dining', 'museums', 'art', 'hiking', 'gaming', 'clubbing', 'reading', 'tv', 'theater', 'movies', 'concerts', 'music', 'shopping', 'yoga', 'interests_correlate', 'expected_happy_with_sd_people', 'like']\n"
     ]
    }
   ],
   "source": [
    "discrete_columns = ['gender', 'race', 'race_o', 'samerace', 'field', 'decision']\n",
    "all_columns = df.columns.values.tolist()\n",
    "continuous_valued_columns = [item for item in all_columns if item not in discrete_columns]\n",
    "print all_columns\n",
    "print continuous_valued_columns"
   ]
  },
  {
   "cell_type": "code",
   "execution_count": 4,
   "metadata": {},
   "outputs": [
    {
     "name": "stdout",
     "output_type": "stream",
     "text": [
      "[0.0, 0.2, 0.4, 0.6, 0.8, 1.0]\n",
      "{'art': [0.0, 2.0, 4.0, 6.0, 8.0, 10.0], 'age_o': [18.0, 26.0, 34.0, 42.0, 50.0, 58.0], 'intelligence': [0.0, 2.0, 4.0, 6.0, 8.0, 10.0], 'sincere': [0.0, 2.0, 4.0, 6.0, 8.0, 10.0], 'expected_happy_with_sd_people': [0.0, 2.0, 4.0, 6.0, 8.0, 10.0], 'attractive_important': [0.0, 0.2, 0.4, 0.6, 0.8, 1.0], 'sincere_important': [0.0, 0.2, 0.4, 0.6, 0.8, 1.0], 'shared_interests_important': [0.0, 0.2, 0.4, 0.6, 0.8, 1.0], 'sincere_partner': [0.0, 2.0, 4.0, 6.0, 8.0, 10.0], 'pref_o_ambitious': [0.0, 0.2, 0.4, 0.6, 0.8, 1.0], 'shared_interests_partner': [0.0, 2.0, 4.0, 6.0, 8.0, 10.0], 'funny': [0.0, 2.0, 4.0, 6.0, 8.0, 10.0], 'pref_o_intelligence': [0.0, 0.2, 0.4, 0.6, 0.8, 1.0], 'yoga': [0.0, 2.0, 4.0, 6.0, 8.0, 10.0], 'hiking': [0.0, 2.0, 4.0, 6.0, 8.0, 10.0], 'dining': [0.0, 2.0, 4.0, 6.0, 8.0, 10.0], 'tv': [0.0, 2.0, 4.0, 6.0, 8.0, 10.0], 'pref_o_shared_interests': [0.0, 0.2, 0.4, 0.6, 0.8, 1.0], 'pref_o_funny': [0.0, 0.2, 0.4, 0.6, 0.8, 1.0], 'clubbing': [0.0, 2.0, 4.0, 6.0, 8.0, 10.0], 'sports': [0.0, 2.0, 4.0, 6.0, 8.0, 10.0], 'ambition_partner': [0.0, 2.0, 4.0, 6.0, 8.0, 10.0], 'intelligence_parter': [0.0, 2.0, 4.0, 6.0, 8.0, 10.0], 'funny_partner': [0.0, 2.0, 4.0, 6.0, 8.0, 10.0], 'importance_same_religion': [0.0, 2.0, 4.0, 6.0, 8.0, 10.0], 'music': [0.0, 2.0, 4.0, 6.0, 8.0, 10.0], 'attractive': [0.0, 2.0, 4.0, 6.0, 8.0, 10.0], 'pref_o_attractive': [0.0, 0.2, 0.4, 0.6, 0.8, 1.0], 'reading': [0.0, 2.0, 4.0, 6.0, 8.0, 10.0], 'funny_important': [0.0, 0.2, 0.4, 0.6, 0.8, 1.0], 'exercise': [0.0, 2.0, 4.0, 6.0, 8.0, 10.0], 'interests_correlate': [-1.0, -0.6, -0.19999999999999996, 0.19999999999999996, 0.6000000000000001, 1.0], 'gaming': [0.0, 2.0, 4.0, 6.0, 8.0, 10.0], 'shopping': [0.0, 2.0, 4.0, 6.0, 8.0, 10.0], 'tvsports': [0.0, 2.0, 4.0, 6.0, 8.0, 10.0], 'pref_o_sincere': [0.0, 0.2, 0.4, 0.6, 0.8, 1.0], 'attractive_partner': [0.0, 2.0, 4.0, 6.0, 8.0, 10.0], 'importance_same_race': [0.0, 2.0, 4.0, 6.0, 8.0, 10.0], 'ambition': [0.0, 2.0, 4.0, 6.0, 8.0, 10.0], 'intelligence_important': [0.0, 0.2, 0.4, 0.6, 0.8, 1.0], 'theater': [0.0, 2.0, 4.0, 6.0, 8.0, 10.0], 'like': [0.0, 2.0, 4.0, 6.0, 8.0, 10.0], 'age': [18.0, 26.0, 34.0, 42.0, 50.0, 58.0], 'museums': [0.0, 2.0, 4.0, 6.0, 8.0, 10.0], 'movies': [0.0, 2.0, 4.0, 6.0, 8.0, 10.0], 'ambition_important': [0.0, 0.2, 0.4, 0.6, 0.8, 1.0], 'concerts': [0.0, 2.0, 4.0, 6.0, 8.0, 10.0]}\n",
      "47\n"
     ]
    }
   ],
   "source": [
    "(row, col) = df.shape\n",
    "age_range = [18.0, 58.0]\n",
    "pref_score = [0.0, 1.0]\n",
    "score = [0.0, 10.0]\n",
    "corr_range = [-1.00, 1.00]\n",
    "\n",
    "bin_N = 5\n",
    "#bin_value = [i for i in range(bin_N)]\n",
    "bin_seg = [1.000 * i/bin_N for i in range(0, bin_N + 1)]\n",
    "print bin_seg\n",
    "\n",
    "age = ['age', 'age_o']\n",
    "corr = ['interests_correlate']\n",
    "preference_scores_of_participant = \\\n",
    "['attractive_important', 'sincere_important', 'intelligence_important',\\\n",
    " 'funny_important', 'ambition_important', 'shared_interests_important']\n",
    "\n",
    "preference_scores_of_partner = \\\n",
    "['pref_o_attractive', 'pref_o_sincere', 'pref_o_intelligence', \\\n",
    " 'pref_o_funny', 'pref_o_ambitious', 'pref_o_shared_interests']\n",
    "\n",
    "continuous_valued_columns_bins = {}\n",
    "\n",
    "# Segment the bins\n",
    "for field in continuous_valued_columns:\n",
    "    continuous_valued_columns_bins[field] = []\n",
    "    if field in age:\n",
    "        for i in range(0, bin_N + 1):\n",
    "            continuous_valued_columns_bins[field].append(age_range[0] + bin_seg[i] * (age_range[1] - age_range[0]))\n",
    "    elif field in corr:\n",
    "        for i in range(0, bin_N + 1):\n",
    "            continuous_valued_columns_bins[field].append(corr_range[0] + bin_seg[i] * (corr_range[1] - corr_range[0]))\n",
    "    elif field in preference_scores_of_participant or field in preference_scores_of_partner:\n",
    "        for i in range(0, bin_N + 1):\n",
    "            continuous_valued_columns_bins[field].append(pref_score[0] + bin_seg[i] * (pref_score[1] - pref_score[0]))\n",
    "    else:\n",
    "        for i in range(0, bin_N + 1):\n",
    "            continuous_valued_columns_bins[field].append(score[0] + bin_seg[i] * (score[1] - score[0]))\n",
    "\n",
    "print continuous_valued_columns_bins\n",
    "print len(continuous_valued_columns_bins)"
   ]
  },
  {
   "cell_type": "code",
   "execution_count": 5,
   "metadata": {
    "scrolled": true
   },
   "outputs": [],
   "source": [
    "# Dictionary of the numbers ine ach bin\n",
    "continuous_valued_columns_seg = {}\n",
    "# Initalize the dict\n",
    "for field in continuous_valued_columns:\n",
    "    continuous_valued_columns_seg[field] = [0 for i in range(bin_N)]\n",
    "\n",
    "for i in range(row):\n",
    "    for field in continuous_valued_columns:\n",
    "        # Find the bin\n",
    "        for j in range(0, bin_N):\n",
    "            # Corner Case\n",
    "            if j == bin_N - 1:\n",
    "                if float(continuous_valued_columns_bins[field][j]) <= float(df[field][i]):\n",
    "                    df.loc[i,field] = int(j)\n",
    "                    continuous_valued_columns_seg[field][j] += 1\n",
    "                    break \n",
    "            else:\n",
    "                if float(continuous_valued_columns_bins[field][j]) <= float(df[field][i]) < float(continuous_valued_columns_bins[field][j + 1]):\n",
    "                    df.loc[i,field] = int(j)\n",
    "                    continuous_valued_columns_seg[field][j] += 1\n",
    "                    break"
   ]
  },
  {
   "cell_type": "code",
   "execution_count": 6,
   "metadata": {},
   "outputs": [
    {
     "name": "stdout",
     "output_type": "stream",
     "text": [
      "{'art': [90, 624, 1262, 1863, 2905], 'age_o': [2990, 3495, 238, 16, 5], 'intelligence': [0, 127, 409, 2157, 4051], 'sincere': [0, 57, 228, 1322, 5137], 'expected_happy_with_sd_people': [107, 841, 2289, 2808, 699], 'attractive_important': [2990, 3103, 545, 87, 19], 'sincere_important': [3775, 2884, 85, 0, 0], 'shared_interests_important': [5745, 999, 0, 0, 0], 'sincere_partner': [37, 166, 818, 2646, 3077], 'pref_o_ambitious': [6258, 486, 0, 0, 0], 'shared_interests_partner': [251, 994, 2091, 2247, 1161], 'funny': [0, 9, 84, 1000, 5651], 'pref_o_intelligence': [2515, 4091, 138, 0, 0], 'yoga': [1332, 1806, 1237, 1355, 1014], 'hiking': [364, 1389, 1321, 1743, 1927], 'dining': [29, 68, 602, 1864, 4181], 'tv': [670, 1034, 1608, 1921, 1511], 'pref_o_shared_interests': [5671, 1073, 0, 0, 0], 'pref_o_funny': [3924, 2760, 60, 0, 0], 'clubbing': [651, 824, 1196, 2040, 2033], 'sports': [259, 907, 1148, 1626, 2804], 'ambition_partner': [34, 237, 1309, 2784, 2380], 'intelligence_parter': [14, 76, 657, 2696, 3301], 'funny_partner': [100, 413, 1471, 2723, 2037], 'importance_same_religion': [2507, 1475, 977, 848, 937], 'music': [23, 64, 645, 1912, 4100], 'attractive': [0, 131, 726, 3260, 2627], 'pref_o_attractive': [3050, 2999, 567, 99, 29], 'reading': [9, 322, 633, 1642, 4138], 'funny_important': [3934, 2750, 60, 0, 0], 'exercise': [223, 895, 1266, 1959, 2401], 'interests_correlate': [18, 758, 2453, 2942, 573], 'gaming': [1573, 1877, 1453, 1292, 549], 'shopping': [388, 1175, 1556, 1756, 1869], 'tvsports': [1220, 1644, 1262, 1357, 1261], 'pref_o_sincere': [3699, 2960, 79, 6, 0], 'attractive_partner': [87, 519, 1661, 2743, 1734], 'importance_same_race': [2201, 1629, 897, 886, 1131], 'ambition': [0, 225, 697, 1867, 3955], 'intelligence_important': [2504, 4105, 135, 0, 0], 'theater': [112, 546, 1201, 2127, 2758], 'like': [92, 511, 1614, 2965, 1562], 'age': [3032, 3491, 196, 20, 5], 'museums': [57, 383, 1063, 2242, 2999], 'movies': [0, 144, 462, 1747, 4391], 'ambition_important': [6246, 498, 0, 0, 0], 'concerts': [55, 516, 1199, 2177, 2797]}\n"
     ]
    }
   ],
   "source": [
    "df = df.astype('int64')\n",
    "df.to_csv(sys.argv[2], index=False)\n",
    "print continuous_valued_columns_seg"
   ]
  },
  {
   "cell_type": "code",
   "execution_count": 7,
   "metadata": {},
   "outputs": [
    {
     "name": "stdout",
     "output_type": "stream",
     "text": [
      "age : [3032, 3491, 196, 20, 5]\n",
      "age_o : [2990, 3495, 238, 16, 5]\n",
      "ambition : [0, 225, 697, 1867, 3955]\n",
      "ambition_important : [6246, 498, 0, 0, 0]\n",
      "ambition_partner : [34, 237, 1309, 2784, 2380]\n",
      "art : [90, 624, 1262, 1863, 2905]\n",
      "attractive : [0, 131, 726, 3260, 2627]\n",
      "attractive_important : [2990, 3103, 545, 87, 19]\n",
      "attractive_partner : [87, 519, 1661, 2743, 1734]\n",
      "clubbing : [651, 824, 1196, 2040, 2033]\n",
      "concerts : [55, 516, 1199, 2177, 2797]\n",
      "dining : [29, 68, 602, 1864, 4181]\n",
      "exercise : [223, 895, 1266, 1959, 2401]\n",
      "expected_happy_with_sd_people : [107, 841, 2289, 2808, 699]\n",
      "funny : [0, 9, 84, 1000, 5651]\n",
      "funny_important : [3934, 2750, 60, 0, 0]\n",
      "funny_partner : [100, 413, 1471, 2723, 2037]\n",
      "gaming : [1573, 1877, 1453, 1292, 549]\n",
      "hiking : [364, 1389, 1321, 1743, 1927]\n",
      "importance_same_race : [2201, 1629, 897, 886, 1131]\n",
      "importance_same_religion : [2507, 1475, 977, 848, 937]\n",
      "intelligence : [0, 127, 409, 2157, 4051]\n",
      "intelligence_important : [2504, 4105, 135, 0, 0]\n",
      "intelligence_parter : [14, 76, 657, 2696, 3301]\n",
      "interests_correlate : [18, 758, 2453, 2942, 573]\n",
      "like : [92, 511, 1614, 2965, 1562]\n",
      "movies : [0, 144, 462, 1747, 4391]\n",
      "museums : [57, 383, 1063, 2242, 2999]\n",
      "music : [23, 64, 645, 1912, 4100]\n",
      "pref_o_ambitious : [6258, 486, 0, 0, 0]\n",
      "pref_o_attractive : [3050, 2999, 567, 99, 29]\n",
      "pref_o_funny : [3924, 2760, 60, 0, 0]\n",
      "pref_o_intelligence : [2515, 4091, 138, 0, 0]\n",
      "pref_o_shared_interests : [5671, 1073, 0, 0, 0]\n",
      "pref_o_sincere : [3699, 2960, 79, 6, 0]\n",
      "reading : [9, 322, 633, 1642, 4138]\n",
      "shared_interests_important : [5745, 999, 0, 0, 0]\n",
      "shared_interests_partner : [251, 994, 2091, 2247, 1161]\n",
      "shopping : [388, 1175, 1556, 1756, 1869]\n",
      "sincere : [0, 57, 228, 1322, 5137]\n",
      "sincere_important : [3775, 2884, 85, 0, 0]\n",
      "sincere_partner : [37, 166, 818, 2646, 3077]\n",
      "sports : [259, 907, 1148, 1626, 2804]\n",
      "theater : [112, 546, 1201, 2127, 2758]\n",
      "tv : [670, 1034, 1608, 1921, 1511]\n",
      "tvsports : [1220, 1644, 1262, 1357, 1261]\n",
      "yoga : [1332, 1806, 1237, 1355, 1014]\n"
     ]
    }
   ],
   "source": [
    "keylist = continuous_valued_columns_seg.keys()\n",
    "keylist.sort()\n",
    "\n",
    "for field in keylist:\n",
    "    print field, ':', continuous_valued_columns_seg[field]"
   ]
  },
  {
   "cell_type": "code",
   "execution_count": null,
   "metadata": {},
   "outputs": [],
   "source": []
  }
 ],
 "metadata": {
  "kernelspec": {
   "display_name": "Python 2",
   "language": "python",
   "name": "python2"
  },
  "language_info": {
   "codemirror_mode": {
    "name": "ipython",
    "version": 2
   },
   "file_extension": ".py",
   "mimetype": "text/x-python",
   "name": "python",
   "nbconvert_exporter": "python",
   "pygments_lexer": "ipython2",
   "version": "2.7.12"
  }
 },
 "nbformat": 4,
 "nbformat_minor": 2
}
