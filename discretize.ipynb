{
 "cells": [
  {
   "cell_type": "code",
   "execution_count": 1,
   "metadata": {},
   "outputs": [],
   "source": [
    "import sys, os\n",
    "import pandas as pd\n",
    "import numpy\n",
    "import matplotlib\n",
    "import matplotlib.pyplot as plt\n",
    "import numpy as np"
   ]
  },
  {
   "cell_type": "code",
   "execution_count": 2,
   "metadata": {},
   "outputs": [],
   "source": [
    "sys.argv[1] = 'dating.csv'\n",
    "sys.argv[2] = 'dating-binned.csv'\n",
    "#sys.argv[3] = 5\n",
    "# Read the data\n",
    "df = pd.read_csv(sys.argv[1])\n",
    "#df = pd.read_csv('dating.csv')"
   ]
  },
  {
   "cell_type": "code",
   "execution_count": 3,
   "metadata": {},
   "outputs": [
    {
     "name": "stdout",
     "output_type": "stream",
     "text": [
      "['gender', 'age', 'age_o', 'race', 'race_o', 'samerace', 'importance_same_race', 'importance_same_religion', 'field', 'pref_o_attractive', 'pref_o_sincere', 'pref_o_intelligence', 'pref_o_funny', 'pref_o_ambitious', 'pref_o_shared_interests', 'attractive_important', 'sincere_important', 'intelligence_important', 'funny_important', 'ambition_important', 'shared_interests_important', 'attractive', 'sincere', 'intelligence', 'funny', 'ambition', 'attractive_partner', 'sincere_partner', 'intelligence_parter', 'funny_partner', 'ambition_partner', 'shared_interests_partner', 'sports', 'tvsports', 'exercise', 'dining', 'museums', 'art', 'hiking', 'gaming', 'clubbing', 'reading', 'tv', 'theater', 'movies', 'concerts', 'music', 'shopping', 'yoga', 'interests_correlate', 'expected_happy_with_sd_people', 'like', 'decision']\n",
      "['age', 'age_o', 'importance_same_race', 'importance_same_religion', 'pref_o_attractive', 'pref_o_sincere', 'pref_o_intelligence', 'pref_o_funny', 'pref_o_ambitious', 'pref_o_shared_interests', 'attractive_important', 'sincere_important', 'intelligence_important', 'funny_important', 'ambition_important', 'shared_interests_important', 'attractive', 'sincere', 'intelligence', 'funny', 'ambition', 'attractive_partner', 'sincere_partner', 'intelligence_parter', 'funny_partner', 'ambition_partner', 'shared_interests_partner', 'sports', 'tvsports', 'exercise', 'dining', 'museums', 'art', 'hiking', 'gaming', 'clubbing', 'reading', 'tv', 'theater', 'movies', 'concerts', 'music', 'shopping', 'yoga', 'interests_correlate', 'expected_happy_with_sd_people', 'like']\n"
     ]
    }
   ],
   "source": [
    "discrete_columns = ['gender', 'race', 'race_o', 'samerace', 'field', 'decision']\n",
    "all_columns = df.columns.values.tolist()\n",
    "continuous_valued_columns = [item for item in all_columns if item not in discrete_columns]\n",
    "print all_columns\n",
    "print continuous_valued_columns"
   ]
  },
  {
   "cell_type": "code",
   "execution_count": 4,
   "metadata": {},
   "outputs": [],
   "source": [
    "(row, col) = df.shape\n",
    "age_range = [18.0, 58.0]\n",
    "pref_score = [0.0, 1.0]\n",
    "score = [0.0, 10.0]\n",
    "corr_range = [-1.00, 1.00]\n",
    "\n",
    "bin_N = 5\n",
    "#bin_N = int(sys.argv[3])\n",
    "#bin_value = [i for i in range(bin_N)]\n",
    "bin_seg = [1.000 * i/bin_N for i in range(0, bin_N + 1)]\n",
    "#print bin_seg\n",
    "\n",
    "age = ['age', 'age_o']\n",
    "corr = ['interests_correlate']\n",
    "preference_scores_of_participant = \\\n",
    "['attractive_important', 'sincere_important', 'intelligence_important',\\\n",
    " 'funny_important', 'ambition_important', 'shared_interests_important']\n",
    "\n",
    "preference_scores_of_partner = \\\n",
    "['pref_o_attractive', 'pref_o_sincere', 'pref_o_intelligence', \\\n",
    " 'pref_o_funny', 'pref_o_ambitious', 'pref_o_shared_interests']\n",
    "\n",
    "continuous_valued_columns_bins = {}\n",
    "\n",
    "# Segment the bins\n",
    "for field in continuous_valued_columns:\n",
    "    continuous_valued_columns_bins[field] = []\n",
    "    if field in age:\n",
    "        for i in range(0, bin_N):\n",
    "            continuous_valued_columns_bins[field].append(age_range[0] + bin_seg[i] * (age_range[1] - age_range[0]))\n",
    "    elif field in corr:\n",
    "        for i in range(0, bin_N):\n",
    "            continuous_valued_columns_bins[field].append(corr_range[0] + bin_seg[i] * (corr_range[1] - corr_range[0]))\n",
    "    elif field in preference_scores_of_participant or field in preference_scores_of_partner:\n",
    "        for i in range(0, bin_N):\n",
    "            continuous_valued_columns_bins[field].append(pref_score[0] + bin_seg[i] * (pref_score[1] - pref_score[0]))\n",
    "    else:\n",
    "        for i in range(0, bin_N):\n",
    "            continuous_valued_columns_bins[field].append(score[0] + bin_seg[i] * (score[1] - score[0]))\n",
    "\n",
    "#print continuous_valued_columns_bins\n",
    "#print len(continuous_valued_columns_bins)\n",
    "#print df['pref_o_attractive'].value_counts()\n",
    "#print len(df[(df['pref_o_attractive'] > 0.20) & (df['pref_o_attractive'] <= 0.40)])\n",
    "#print len(df[(df['pref_o_attractive'] > 0.40) & (df['pref_o_attractive'] <= 0.60)])"
   ]
  },
  {
   "cell_type": "code",
   "execution_count": null,
   "metadata": {
    "scrolled": true
   },
   "outputs": [],
   "source": [
    "# Dictionary of the numbers ine ach bin\n",
    "continuous_valued_columns_seg = {}\n",
    "# Initalize the dict\n",
    "for field in continuous_valued_columns:\n",
    "    continuous_valued_columns_seg[field] = [0 for i in range(bin_N)]\n",
    "\n",
    "for i in range(row):\n",
    "    for field in continuous_valued_columns:\n",
    "        # Find the bin\n",
    "        for j in range(0, bin_N):\n",
    "            # Corner Case\n",
    "            if j == 0:\n",
    "                if continuous_valued_columns_bins[field][j] <= float(df[field][i]) <= continuous_valued_columns_bins[field][j + 1]:\n",
    "                    df.loc[i,field] = int(j)\n",
    "                    continuous_valued_columns_seg[field][j] += 1\n",
    "                    break\n",
    "            elif j == bin_N - 1:\n",
    "                if continuous_valued_columns_bins[field][j] < float(df[field][i]):\n",
    "                    df.loc[i,field] = int(j)\n",
    "                    continuous_valued_columns_seg[field][j] += 1\n",
    "                    break\n",
    "            else:\n",
    "                if continuous_valued_columns_bins[field][j] < float(df[field][i]) <= continuous_valued_columns_bins[field][j + 1]:\n",
    "                    df.loc[i,field] = int(j)\n",
    "                    continuous_valued_columns_seg[field][j] += 1\n",
    "                    break"
   ]
  },
  {
   "cell_type": "code",
   "execution_count": null,
   "metadata": {},
   "outputs": [],
   "source": [
    "df = df.astype('int64')\n",
    "df.to_csv(sys.argv[2], index=False)\n",
    "#df.to_csv('dating-binned.csv', index=False)\n",
    "print continuous_valued_columns_seg"
   ]
  },
  {
   "cell_type": "code",
   "execution_count": null,
   "metadata": {},
   "outputs": [],
   "source": [
    "keylist = continuous_valued_columns_seg.keys()\n",
    "\n",
    "for field in continuous_valued_columns:\n",
    "    print str(field) + ':', continuous_valued_columns_seg[field]"
   ]
  },
  {
   "cell_type": "code",
   "execution_count": null,
   "metadata": {},
   "outputs": [],
   "source": []
  }
 ],
 "metadata": {
  "kernelspec": {
   "display_name": "Python 2",
   "language": "python",
   "name": "python2"
  },
  "language_info": {
   "codemirror_mode": {
    "name": "ipython",
    "version": 2
   },
   "file_extension": ".py",
   "mimetype": "text/x-python",
   "name": "python",
   "nbconvert_exporter": "python",
   "pygments_lexer": "ipython2",
   "version": "2.7.12"
  }
 },
 "nbformat": 4,
 "nbformat_minor": 2
}
