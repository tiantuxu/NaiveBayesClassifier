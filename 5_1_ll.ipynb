{
 "cells": [
  {
   "cell_type": "code",
   "execution_count": 1,
   "metadata": {},
   "outputs": [],
   "source": [
    "import pandas as pd\n",
    "import numpy as np\n",
    "from collections import Counter, defaultdict"
   ]
  },
  {
   "cell_type": "code",
   "execution_count": 2,
   "metadata": {},
   "outputs": [],
   "source": [
    "train=pd.read_csv('trainSet.csv',index_col=[0])"
   ]
  },
  {
   "cell_type": "code",
   "execution_count": 3,
   "metadata": {},
   "outputs": [],
   "source": [
    "test=pd.read_csv('testSet.csv',index_col=[0])"
   ]
  },
  {
   "cell_type": "code",
   "execution_count": 4,
   "metadata": {},
   "outputs": [
    {
     "name": "stdout",
     "output_type": "stream",
     "text": [
      "Accuracy of the trainSet: 0.7818350324374421\n",
      "Accuracy of the testset: 0.7472201630837657\n"
     ]
    }
   ],
   "source": [
    "def nbc(train,frac):\n",
    "    rand_train=train.sample(frac=frac,random_state=47)\n",
    "    return rand_train \n",
    "\n",
    "def occurrences(list1):\n",
    "    no_of_examples = len(list1)\n",
    "    prob = dict(Counter(list1))\n",
    "    for key in prob.keys():\n",
    "        prob[key] = prob[key] / float(no_of_examples)\n",
    "    return prob\n",
    " \n",
    "def naive_bayes(training, outcome, new_sample):\n",
    "    classes     = np.unique(outcome)\n",
    "    rows, cols  = np.shape(training)\n",
    "    likelihoods = {}\n",
    "    for cls in classes:\n",
    "        likelihoods[cls] = defaultdict(list)\n",
    "  \n",
    "    class_probabilities = occurrences(outcome)\n",
    "  \n",
    "    for cls in classes:\n",
    "        row_indices = np.where(outcome == cls)[0]\n",
    "        subset      = training[row_indices, :]\n",
    "        r, c        = np.shape(subset)\n",
    "        for j in range(0,c):\n",
    "            likelihoods[cls][j] += list(subset[:,j])\n",
    "  \n",
    "    for cls in classes:\n",
    "        for j in range(0,cols):\n",
    "             likelihoods[cls][j] = occurrences(likelihoods[cls][j])  \n",
    "  \n",
    "    results = []\n",
    "    for sample in new_sample:\n",
    "        cur_sample_result={}\n",
    "        for cls in classes:\n",
    "            class_probability = class_probabilities[cls]\n",
    "            for i in range(0,len(sample)):\n",
    "                relative_values = likelihoods[cls][i]\n",
    "                if sample[i] in relative_values.keys():\n",
    "                    class_probability *= relative_values[sample[i]]\n",
    "                else:\n",
    "                    class_probability *= 0\n",
    "            cur_sample_result[cls] = class_probability\n",
    "        results.append(cur_sample_result)\n",
    "    return results\n",
    "\n",
    "def predict(training, outcome, new_sample):\n",
    "    t=naive_bayes(training, outcome, new_sample)\n",
    "    predict=[]\n",
    "    for i in range(len(t)):\n",
    "        predict.append(max(t[i], key=t[i].get))\n",
    "    return predict\n",
    "    \n",
    "def accuracy(predict,new_outcome):\n",
    "    correct = 0\n",
    "    for i in range(len(new_outcome)):\n",
    "        if predict[i]==new_outcome[i]:\n",
    "            correct+=1\n",
    "    return (correct/float(len(new_outcome)))\n",
    "\n",
    "def train_accuracy_main():\n",
    "    # test training sample model\n",
    "    frac=1\n",
    "    rand_train=nbc(train,frac)\n",
    "    training=rand_train.loc[:, train.columns != 'decision'].values\n",
    "    train_outcome=rand_train['decision'].values\n",
    "    naive_bayes(training, train_outcome, training)\n",
    "    predictions = predict(training, train_outcome, training)\n",
    "    final_accuracy = accuracy(predictions, train_outcome)\n",
    "    print('Accuracy of the trainSet: {0}'.format(final_accuracy))\n",
    "train_accuracy_main()\n",
    "\n",
    "def test_accuracy_main():\n",
    "    # test testing sample model\n",
    "    frac=1\n",
    "    rand_train=nbc(train,frac)\n",
    "    training=rand_train.loc[:, train.columns != 'decision'].values\n",
    "    train_outcome=rand_train['decision'].values\n",
    "    #outcome    = np.asarray((0,1,1,1,0,1,0,1))\n",
    "    testing = test.loc[:, test.columns != 'decision'].values\n",
    "    test_outcome=test['decision'].values\n",
    "    naive_bayes(training, train_outcome, testing)\n",
    "    predictions = predict(training, train_outcome, testing)\n",
    "    final_accuracy = accuracy(predictions, test_outcome)\n",
    "    print('Accuracy of the testset: {0}'.format(final_accuracy))\n",
    "test_accuracy_main()"
   ]
  },
  {
   "cell_type": "code",
   "execution_count": null,
   "metadata": {},
   "outputs": [],
   "source": []
  }
 ],
 "metadata": {
  "kernelspec": {
   "display_name": "Python 3",
   "language": "python",
   "name": "python3"
  },
  "language_info": {
   "codemirror_mode": {
    "name": "ipython",
    "version": 3
   },
   "file_extension": ".py",
   "mimetype": "text/x-python",
   "name": "python",
   "nbconvert_exporter": "python",
   "pygments_lexer": "ipython3",
   "version": "3.6.5"
  }
 },
 "nbformat": 4,
 "nbformat_minor": 2
}
