{
 "cells": [
  {
   "cell_type": "code",
   "execution_count": 1,
   "metadata": {},
   "outputs": [],
   "source": [
    "import sys, os\n",
    "import pandas as pd\n",
    "import numpy\n",
    "import matplotlib\n",
    "matplotlib.use('Agg')\n",
    "import matplotlib.pyplot as plt\n",
    "import numpy as np"
   ]
  },
  {
   "cell_type": "code",
   "execution_count": 2,
   "metadata": {},
   "outputs": [],
   "source": [
    "# Read the data\n",
    "df = pd.read_csv('dating.csv')"
   ]
  },
  {
   "cell_type": "code",
   "execution_count": 3,
   "metadata": {},
   "outputs": [],
   "source": [
    "rating_of_partner_from_participant = ['attractive_partner', 'sincere_partner', 'intelligence_parter', \\\n",
    "'funny_partner', 'ambition_partner', 'shared_interests_partner']"
   ]
  },
  {
   "cell_type": "code",
   "execution_count": 4,
   "metadata": {},
   "outputs": [],
   "source": [
    "TOTAL_SAMPLE = len(df)\n",
    "rating_of_partner_from_participant_stat = {}\n",
    "rating_of_partner_from_participant_decision = {}\n",
    "\n",
    "for pref in rating_of_partner_from_participant:\n",
    "    rating_of_partner_from_participant_stat[pref] = df[pref].value_counts()\n",
    "    rating_of_partner_from_participant_decision[pref] = pd.crosstab(index=df[pref], columns=df['decision'])[1]\n",
    "\n",
    "#print rating_of_partner_from_participant_stat\n",
    "#print rating_of_partner_from_participant_decision"
   ]
  },
  {
   "cell_type": "code",
   "execution_count": 5,
   "metadata": {},
   "outputs": [],
   "source": [
    "# Four polar axes\n",
    "#f, axarr = plt.subplots(2, 3, subplot_kw=dict(projection='polar'))\n",
    "plt.figure(figsize=(100,60))\n",
    "f, axarr = plt.subplots(3, 2, figsize=(10,10))\n",
    "for i in range(len(rating_of_partner_from_participant)):\n",
    "    X = []\n",
    "    Y = []\n",
    "    for v in df[rating_of_partner_from_participant[i]].unique():\n",
    "        Y.append(1.0 * rating_of_partner_from_participant_decision[rating_of_partner_from_participant[i]][v] / \\\n",
    "                 rating_of_partner_from_participant_stat[rating_of_partner_from_participant[i]][v])\n",
    "        X.append(v)\n",
    "        axarr[i/2, i%2].scatter(X, Y)\n",
    "        axarr[i/2, i%2].set_title(rating_of_partner_from_participant[i])\n",
    "        axarr[i/2, i%2].set_xlabel('values')\n",
    "        axarr[i/2, i%2].set_ylabel('success rate')\n",
    "        #axarr[i/2, i%2].set_figheight(15)\n",
    "        #axarr[i/2, i%2].set_figwidth(15)\n",
    "\n",
    "# Fine-tune figure; make subplots farther from each other.\n",
    "f.subplots_adjust(hspace=1, wspace = 0.2)\n",
    "plt.savefig('./figs/2_2.png')\n",
    "#plt.show()"
   ]
  }
 ],
 "metadata": {
  "kernelspec": {
   "display_name": "Python 2",
   "language": "python",
   "name": "python2"
  },
  "language_info": {
   "codemirror_mode": {
    "name": "ipython",
    "version": 2
   },
   "file_extension": ".py",
   "mimetype": "text/x-python",
   "name": "python",
   "nbconvert_exporter": "python",
   "pygments_lexer": "ipython2",
   "version": "2.7.12"
  }
 },
 "nbformat": 4,
 "nbformat_minor": 2
}
