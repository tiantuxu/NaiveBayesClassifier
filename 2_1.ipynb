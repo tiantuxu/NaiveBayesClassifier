{
 "cells": [
  {
   "cell_type": "code",
   "execution_count": 39,
   "metadata": {},
   "outputs": [],
   "source": [
    "import sys, os\n",
    "import pandas as pd\n",
    "import numpy\n",
    "import matplotlib.pyplot as plt"
   ]
  },
  {
   "cell_type": "code",
   "execution_count": 28,
   "metadata": {},
   "outputs": [],
   "source": [
    "# Read the data\n",
    "df = pd.read_csv('dating.csv')\n",
    "# save data to list\n",
    "data = d.values.tolist()\n",
    "#print df\n",
    "#print data"
   ]
  },
  {
   "cell_type": "code",
   "execution_count": 38,
   "metadata": {},
   "outputs": [],
   "source": [
    "(row, col) = d.shape\n",
    "m = [1]\n",
    "f = [0]\n",
    "# Split the dataframe by gender\n",
    "male = []\n",
    "female = []\n",
    "\n",
    "male = df[df['gender'].isin(m)]\n",
    "female = df[df['gender'].isin(f)]"
   ]
  },
  {
   "cell_type": "code",
   "execution_count": 34,
   "metadata": {},
   "outputs": [
    {
     "name": "stdout",
     "output_type": "stream",
     "text": [
      "3435\n",
      "3309\n"
     ]
    }
   ],
   "source": [
    "preference_scores_of_participant = \\\n",
    "['attractive_important', 'sincere_important', 'intelligence_important',\\\n",
    " 'funny_important', 'ambition_important', 'shared_interests_important']\n",
    "preference_scores_of_partner = \\\n",
    "['pref_o_attractive', 'pref_o_sincere', 'pref_o_intelligence', \\\n",
    " 'pref_o_funny', 'pref_o_ambitious', 'pref_o_shared_interests']\n",
    "\n",
    "\n",
    "for i in "
   ]
  },
  {
   "cell_type": "code",
   "execution_count": null,
   "metadata": {},
   "outputs": [],
   "source": []
  }
 ],
 "metadata": {
  "kernelspec": {
   "display_name": "Python 2",
   "language": "python",
   "name": "python2"
  },
  "language_info": {
   "codemirror_mode": {
    "name": "ipython",
    "version": 2
   },
   "file_extension": ".py",
   "mimetype": "text/x-python",
   "name": "python",
   "nbconvert_exporter": "python",
   "pygments_lexer": "ipython2",
   "version": "2.7.12"
  }
 },
 "nbformat": 4,
 "nbformat_minor": 2
}
