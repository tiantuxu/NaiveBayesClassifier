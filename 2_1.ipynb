{
 "cells": [
  {
   "cell_type": "code",
   "execution_count": 1,
   "metadata": {},
   "outputs": [],
   "source": [
    "import sys, os\n",
    "import pandas as pd\n",
    "import numpy\n",
    "import matplotlib\n",
    "import matplotlib.pyplot as plt\n",
    "import numpy as np"
   ]
  },
  {
   "cell_type": "code",
   "execution_count": 2,
   "metadata": {},
   "outputs": [],
   "source": [
    "# Read the data\n",
    "df = pd.read_csv('dating.csv')"
   ]
  },
  {
   "cell_type": "code",
   "execution_count": 3,
   "metadata": {},
   "outputs": [],
   "source": [
    "(row, col) = df.shape\n",
    "m = [1]\n",
    "f = [0]\n",
    "# Split the dataframe by gender\n",
    "male = []\n",
    "female = []\n",
    "\n",
    "male = df[df['gender'].isin(m)]\n",
    "female = df[df['gender'].isin(f)]"
   ]
  },
  {
   "cell_type": "code",
   "execution_count": 18,
   "metadata": {},
   "outputs": [
    {
     "data": {
      "image/png": "[encoded data removed]",
      "text/plain": [
       "<Figure size 432x288 with 1 Axes>"
      ]
     },
     "metadata": {
      "needs_background": "light"
     },
     "output_type": "display_data"
    }
   ],
   "source": [
    "preference_scores_of_participant = \\\n",
    "['attractive_important', 'sincere_important', 'intelligence_important',\\\n",
    " 'funny_important', 'ambition_important', 'shared_interests_important']\n",
    "\n",
    "N = 6\n",
    "male_means = []\n",
    "female_means = []\n",
    "\n",
    "fig, ax = plt.subplots()\n",
    "width = 1.0\n",
    "ind = np.array([0,3,6,9,12,15])\n",
    "\n",
    "for pref in preference_scores_of_participant:\n",
    "    male_means.append(male[pref].mean())\n",
    "    female_means.append(female[pref].mean())\n",
    "    \n",
    "p1 = ax.bar(ind, male_means, width, color='red')\n",
    "p2 = ax.bar(ind + width, female_means, width, color='blue')\n",
    "\n",
    "ax.set_title('Scores by gender')\n",
    "ax.set_xticks(ind + width / 2)\n",
    "ax.set_xticklabels(('attractive', 'sincere', 'intelligence', \\\n",
    "                    'funny', 'ambition', 'shared_interests'))\n",
    "\n",
    "ax.legend((p1[0], p2[0]), ('male', 'female'))\n",
    "ax.autoscale_view()\n",
    "\n",
    "plt.savefig('2_1.png')\n",
    "plt.show()"
   ]
  },
  {
   "cell_type": "code",
   "execution_count": null,
   "metadata": {},
   "outputs": [],
   "source": []
  }
 ],
 "metadata": {
  "kernelspec": {
   "display_name": "Python 2",
   "language": "python",
   "name": "python2"
  },
  "language_info": {
   "codemirror_mode": {
    "name": "ipython",
    "version": 2
   },
   "file_extension": ".py",
   "mimetype": "text/x-python",
   "name": "python",
   "nbconvert_exporter": "python",
   "pygments_lexer": "ipython2",
   "version": "2.7.12"
  }
 },
 "nbformat": 4,
 "nbformat_minor": 2
}
